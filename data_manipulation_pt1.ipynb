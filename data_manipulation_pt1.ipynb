{
 "cells": [
  {
   "cell_type": "markdown",
   "id": "43103ef9",
   "metadata": {},
   "source": [
    "# Learning Numpy"
   ]
  },
  {
   "cell_type": "code",
   "execution_count": 14,
   "id": "f04141eb",
   "metadata": {},
   "outputs": [],
   "source": [
    "import numpy as np "
   ]
  },
  {
   "cell_type": "markdown",
   "id": "eb3a7efd",
   "metadata": {},
   "source": [
    "### Creating Arrays"
   ]
  },
  {
   "cell_type": "markdown",
   "id": "6be7fddb",
   "metadata": {},
   "source": [
    "<strong><ins>All arrays mentioned here are numpy arrays as long as opposite is not mentioned</ins></strong> please solve the problems with this knowledge."
   ]
  },
  {
   "cell_type": "markdown",
   "id": "471f6974",
   "metadata": {},
   "source": [
    "Create an array in size of 4*3 and assing it to arr variable "
   ]
  },
  {
   "cell_type": "code",
   "execution_count": 5,
   "id": "12801da8",
   "metadata": {},
   "outputs": [
    {
     "name": "stdout",
     "output_type": "stream",
     "text": [
      "[[ 0  1  2]\n",
      " [ 3  4  5]\n",
      " [ 6  7  8]\n",
      " [ 9 10 11]]\n"
     ]
    }
   ],
   "source": [
    "arr = np.arange(12).reshape(4,3)\n",
    "print(arr)"
   ]
  },
  {
   "cell_type": "markdown",
   "id": "c82af80c",
   "metadata": {},
   "source": [
    "Create an array with elements from 0 to 15 (both inclusive) and assing it to arr2 variable   \n",
    "Then print the shape of the arr2  \n",
    "copy the arr2 to arr2_copy  \n",
    "print arr2, arr2_copy   \n",
    "Change its shape to 4*4 and assign to itself   \n",
    "print arr2, arr2_copy again    "
   ]
  },
  {
   "cell_type": "code",
   "execution_count": 17,
   "id": "dd0fad30",
   "metadata": {},
   "outputs": [
    {
     "name": "stdout",
     "output_type": "stream",
     "text": [
      "(16,)\n"
     ]
    }
   ],
   "source": [
    "arr2 = np.arange(16)\n",
    "print(arr2.shape)"
   ]
  },
  {
   "cell_type": "code",
   "execution_count": 18,
   "id": "8efaec0d",
   "metadata": {},
   "outputs": [
    {
     "name": "stdout",
     "output_type": "stream",
     "text": [
      "[ 0  1  2  3  4  5  6  7  8  9 10 11 12 13 14 15]\n"
     ]
    }
   ],
   "source": [
    "arr2_copy = arr2.copy()\n",
    "print(arr2_copy)"
   ]
  },
  {
   "cell_type": "code",
   "execution_count": 19,
   "id": "14e1498d",
   "metadata": {},
   "outputs": [],
   "source": [
    "arr2= arr2.reshape(4,4)"
   ]
  },
  {
   "cell_type": "code",
   "execution_count": 20,
   "id": "7ce3c862",
   "metadata": {},
   "outputs": [
    {
     "name": "stdout",
     "output_type": "stream",
     "text": [
      "[[ 0  1  2  3]\n",
      " [ 4  5  6  7]\n",
      " [ 8  9 10 11]\n",
      " [12 13 14 15]]\n"
     ]
    }
   ],
   "source": [
    "print(arr2)"
   ]
  },
  {
   "cell_type": "markdown",
   "id": "5c312718",
   "metadata": {},
   "source": [
    "### Some Functions "
   ]
  },
  {
   "cell_type": "markdown",
   "id": "4a6c4e92",
   "metadata": {},
   "source": [
    "##### How many dimentions there are in arr2 variable? "
   ]
  },
  {
   "cell_type": "code",
   "execution_count": 21,
   "id": "03c9544c",
   "metadata": {},
   "outputs": [
    {
     "data": {
      "text/plain": [
       "2"
      ]
     },
     "execution_count": 21,
     "metadata": {},
     "output_type": "execute_result"
    }
   ],
   "source": [
    "arr2.ndim"
   ]
  },
  {
   "cell_type": "markdown",
   "id": "0d24dc16",
   "metadata": {},
   "source": [
    "##### Describe the number of rows and columns in arr2 variable "
   ]
  },
  {
   "cell_type": "code",
   "execution_count": 22,
   "id": "e4c71e21",
   "metadata": {},
   "outputs": [
    {
     "data": {
      "text/plain": [
       "(4, 4)"
      ]
     },
     "execution_count": 22,
     "metadata": {},
     "output_type": "execute_result"
    }
   ],
   "source": [
    "arr2.shape"
   ]
  },
  {
   "cell_type": "markdown",
   "id": "fb0109ad",
   "metadata": {},
   "source": [
    "##### How many elements there are in arr2 variable?"
   ]
  },
  {
   "cell_type": "code",
   "execution_count": 23,
   "id": "4f12ea1a",
   "metadata": {},
   "outputs": [
    {
     "data": {
      "text/plain": [
       "16"
      ]
     },
     "execution_count": 23,
     "metadata": {},
     "output_type": "execute_result"
    }
   ],
   "source": [
    "arr2.size"
   ]
  },
  {
   "cell_type": "markdown",
   "id": "3fb5ef4e",
   "metadata": {},
   "source": [
    "##### Print the data type of arr2"
   ]
  },
  {
   "cell_type": "code",
   "execution_count": 24,
   "id": "a1e76cbb",
   "metadata": {},
   "outputs": [
    {
     "data": {
      "text/plain": [
       "dtype('int32')"
      ]
     },
     "execution_count": 24,
     "metadata": {},
     "output_type": "execute_result"
    }
   ],
   "source": [
    "arr2.dtype"
   ]
  },
  {
   "cell_type": "markdown",
   "id": "3d6dc446",
   "metadata": {},
   "source": [
    "#### Print the data location in the memory"
   ]
  },
  {
   "cell_type": "code",
   "execution_count": 25,
   "id": "b480c54e",
   "metadata": {},
   "outputs": [
    {
     "data": {
      "text/plain": [
       "<memory at 0x0000022D969F1490>"
      ]
     },
     "execution_count": 25,
     "metadata": {},
     "output_type": "execute_result"
    }
   ],
   "source": [
    "arr2.data"
   ]
  },
  {
   "cell_type": "markdown",
   "id": "f50930f0",
   "metadata": {},
   "source": [
    "### Some Statistics About the Arrays"
   ]
  },
  {
   "cell_type": "markdown",
   "id": "e2bd3bf5",
   "metadata": {},
   "source": [
    "#### Show 50th percentile of arr2"
   ]
  },
  {
   "cell_type": "code",
   "execution_count": 26,
   "id": "cf2ff1b6",
   "metadata": {},
   "outputs": [
    {
     "data": {
      "text/plain": [
       "7.5"
      ]
     },
     "execution_count": 26,
     "metadata": {},
     "output_type": "execute_result"
    }
   ],
   "source": [
    "np.percentile(arr2, 50)"
   ]
  },
  {
   "cell_type": "markdown",
   "id": "b94b76aa",
   "metadata": {},
   "source": [
    "#### Show mean of arr2 elements"
   ]
  },
  {
   "cell_type": "code",
   "execution_count": 27,
   "id": "26ebc870",
   "metadata": {},
   "outputs": [
    {
     "data": {
      "text/plain": [
       "7.5"
      ]
     },
     "execution_count": 27,
     "metadata": {},
     "output_type": "execute_result"
    }
   ],
   "source": [
    "np.mean(arr2)"
   ]
  },
  {
   "cell_type": "markdown",
   "id": "1ab10d37",
   "metadata": {},
   "source": [
    "#### Show median of arr2 elements"
   ]
  },
  {
   "cell_type": "code",
   "execution_count": 28,
   "id": "973b1ff7",
   "metadata": {},
   "outputs": [
    {
     "data": {
      "text/plain": [
       "7.5"
      ]
     },
     "execution_count": 28,
     "metadata": {},
     "output_type": "execute_result"
    }
   ],
   "source": [
    "np.median(arr2)"
   ]
  },
  {
   "cell_type": "markdown",
   "id": "7040730d",
   "metadata": {},
   "source": [
    "##### Create one dimensional normally distrubuted array with mean 3 standard deviation is 4 and has elements of 100"
   ]
  },
  {
   "cell_type": "code",
   "execution_count": 15,
   "id": "23bb52de",
   "metadata": {},
   "outputs": [],
   "source": [
    "from numpy import random"
   ]
  },
  {
   "cell_type": "code",
   "execution_count": 21,
   "id": "5e246a9f",
   "metadata": {},
   "outputs": [
    {
     "data": {
      "text/plain": [
       "array([ 3.69124705e+00, -3.82300896e-01,  1.40335154e+01,  3.23245254e+00,\n",
       "        2.84202669e+00,  1.03719721e+01,  3.13212034e+00,  2.38355069e+00,\n",
       "       -1.13721607e+00, -4.86900693e-01,  2.04893435e+00,  7.56212983e+00,\n",
       "        6.11962157e+00, -2.33879753e+00,  4.58311350e+00,  1.67418672e+00,\n",
       "        8.02383996e+00,  8.16086838e+00, -1.02152113e+00,  2.94625553e+00,\n",
       "        2.21461318e+00,  6.08746708e+00, -1.78308672e-01,  2.88747277e+00,\n",
       "        1.23784781e+00, -9.68115249e-01, -1.21220615e+00,  6.02223706e-01,\n",
       "        6.51201649e+00,  8.10619649e+00,  3.69628457e+00,  1.63668769e+00,\n",
       "       -4.76602578e+00,  2.58989972e+00,  1.09408753e+00,  9.38769819e+00,\n",
       "       -5.59848517e+00, -1.96004756e+00, -2.37569853e+00,  5.78555489e+00,\n",
       "        1.91201790e+00,  6.21729990e+00,  8.20273841e+00, -4.28064321e+00,\n",
       "        5.71647245e+00,  3.75763294e+00,  6.76745276e+00,  4.03828711e+00,\n",
       "       -8.29269481e-01,  1.48150276e+00, -5.30419640e+00, -3.97953002e-01,\n",
       "        6.66959896e+00,  6.53018021e+00,  1.90563574e+00,  7.98472665e+00,\n",
       "       -2.66277878e+00, -4.40189862e-01, -4.70008025e-02,  2.51881642e+00,\n",
       "        5.53193782e-01,  3.62112610e+00,  2.30375609e+00, -2.99057507e+00,\n",
       "        2.96687500e+00,  1.63751508e+00, -2.67617138e+00, -2.58109076e-01,\n",
       "        3.56089301e+00,  2.19449466e+00,  2.40028402e+00, -4.58486963e+00,\n",
       "        9.05340673e+00,  1.83432750e+00,  1.23976022e+00,  6.10182049e+00,\n",
       "        1.07163209e+01,  3.26606527e+00,  4.61642517e+00, -6.80434087e+00,\n",
       "        2.60693545e+00,  2.18320295e+00,  2.22634520e+00,  3.12709655e+00,\n",
       "        8.21410947e-01,  5.92356961e+00,  1.02105317e+00,  8.37602994e+00,\n",
       "        4.02664067e+00,  3.14770161e+00,  3.90836715e+00,  2.66212553e+00,\n",
       "        1.31771614e+00,  6.82431559e+00, -1.06732809e+00,  3.49126144e+00,\n",
       "        2.51554979e+00,  5.03985739e+00,  9.04015302e+00,  8.18250191e+00,\n",
       "        1.31213113e+00,  1.37539221e+00, -2.91886771e-01,  5.50251750e+00,\n",
       "        1.66041400e+00,  4.17122452e+00,  5.41351382e+00,  6.53685124e+00,\n",
       "       -2.13594129e+00, -8.05500254e-01,  8.04011388e-01, -4.24336445e+00,\n",
       "       -9.30988094e-01,  2.91044741e+00, -1.27079403e+00,  9.05882593e+00,\n",
       "        4.22435137e+00,  9.22568354e+00,  5.89597413e+00,  6.85093675e+00,\n",
       "        1.29335469e+00,  6.80110277e+00,  1.07059884e+00,  2.49312465e+00,\n",
       "        2.48541375e+00,  1.01073066e+01,  1.01402767e+01,  2.83555283e+00,\n",
       "        3.39965585e+00,  2.82656600e+00,  5.71355400e+00, -1.91113533e-02,\n",
       "        8.64178508e+00,  1.04399923e+00, -7.66157060e-02,  5.07178902e+00,\n",
       "        3.11822113e+00, -2.28364008e+00, -1.94166522e-01, -1.25536744e-01,\n",
       "        2.04701186e+00,  1.55486186e+01,  4.46085149e+00,  7.12574641e+00,\n",
       "        4.71425556e+00,  7.15830119e+00,  2.14609176e+00,  9.39463553e-02,\n",
       "       -1.14692738e+00,  3.72574516e+00,  1.41293097e+00,  4.24667978e+00,\n",
       "        9.06249492e-01,  7.02994580e+00,  6.34240382e+00,  6.18148532e+00,\n",
       "        3.13029222e+00,  1.45726240e+00,  4.22430327e+00,  1.90751598e+00,\n",
       "        7.15591454e+00,  5.66956442e+00, -2.14297929e-01,  5.31139635e+00,\n",
       "        8.85380814e+00,  6.78746666e+00,  1.10485636e+01,  6.48624404e+00,\n",
       "        1.16679202e+00,  1.64133047e+01,  3.47440085e+00,  4.14235393e+00,\n",
       "        6.08164565e+00,  5.14869717e+00, -2.15316410e+00,  6.70743779e+00,\n",
       "        7.92750611e+00,  2.60771911e+00,  4.66976548e-01,  4.99711794e-01,\n",
       "        3.71670370e+00, -2.58788971e+00,  2.88753443e+00, -1.92177716e+00,\n",
       "       -3.32110235e-01,  1.27459441e+00, -1.15626222e-01,  2.43690465e+00,\n",
       "        1.18519537e+00,  1.40846594e+01,  5.52317484e+00,  7.40896286e+00,\n",
       "       -1.56591541e-01,  9.06224467e-01,  1.94543588e+00,  2.21408132e+00,\n",
       "        2.72423443e+00,  4.06926003e+00,  7.02038307e+00,  5.65890346e+00,\n",
       "        1.23704495e+00,  1.38450983e+01,  1.16046510e+00,  5.79166842e+00,\n",
       "        5.02641249e+00,  6.02921860e+00,  5.68634581e+00, -3.38304827e+00,\n",
       "        2.89478373e-01, -1.36161563e+01,  6.49140092e+00,  2.35635682e+00,\n",
       "        2.79201547e+00,  3.38965633e+00,  1.05984953e+00, -7.06369048e-01,\n",
       "        6.44822271e+00,  3.12675467e+00,  9.59225626e+00,  1.41587015e+00,\n",
       "        3.35896843e+00,  7.24289770e+00,  1.71040712e-01,  1.34285165e-01,\n",
       "       -4.67320690e-01,  2.04119498e+00,  3.87103966e+00,  1.97171587e+00,\n",
       "        2.89351925e+00,  2.75952073e+00,  9.84501059e+00, -5.64900537e+00,\n",
       "        2.92987695e+00, -1.84707531e+00, -2.11324275e+00,  1.78291955e+00,\n",
       "       -1.94335482e+00,  2.65470060e+00, -1.73357596e+00,  8.71231526e+00,\n",
       "        5.24160379e+00,  1.97179236e+00,  8.97336345e+00,  1.25084404e+00,\n",
       "        1.05538609e+01, -4.78767721e+00,  4.74631836e+00,  7.88403695e+00,\n",
       "        6.69164602e+00,  3.52108677e+00,  6.50945319e+00,  2.15304534e+00,\n",
       "        2.00049076e-02,  2.67755074e+00,  8.13256911e+00,  4.76033098e+00,\n",
       "        3.26374739e+00,  5.67599152e-01,  4.85064031e+00, -2.49446184e+00,\n",
       "        3.24802185e+00,  3.89914879e+00,  6.65649879e+00,  5.37426870e+00,\n",
       "       -1.86319356e-01,  2.66074443e+00, -3.07184661e+00,  3.10370531e+00,\n",
       "       -3.62918577e+00,  1.19160946e+00,  5.68807784e+00, -1.27654967e+00,\n",
       "        6.81330887e-01,  6.28598674e+00,  4.65999561e+00,  9.56431386e+00,\n",
       "        1.09450880e+01,  8.01989969e-01,  8.51937520e+00,  9.08075747e+00,\n",
       "        7.34032124e+00, -4.67105930e+00,  4.92627370e+00,  6.72597293e+00,\n",
       "        2.90266183e+00,  2.38470623e+00, -2.01243515e-01,  8.22291891e+00,\n",
       "        3.98180966e-01, -2.04925085e+00,  9.20686858e-01,  3.01360402e+00,\n",
       "        2.47269894e+00,  9.92349479e-01,  1.93381037e+00, -3.39314937e-01,\n",
       "       -1.21580916e-01, -1.68323135e-01, -6.76377968e-01, -5.21378866e-01,\n",
       "       -3.77214306e+00,  5.29024134e+00, -8.81757422e-01,  8.86454701e+00,\n",
       "        1.16454195e+00,  2.83180985e+00,  1.45597595e+00,  1.96487576e+00,\n",
       "       -2.70298810e+00,  5.84121879e+00, -1.34403353e+00, -8.95174301e-01,\n",
       "        2.09643980e+00,  1.77887612e+00,  7.49399998e+00, -2.56282217e+00,\n",
       "        1.00001958e+01,  6.33099622e+00,  2.04156256e+00,  5.40703073e+00,\n",
       "        5.24730103e+00,  2.15263552e+00,  1.21277153e+00,  4.58352095e+00,\n",
       "        6.23346695e+00,  2.83146320e+00,  7.82725664e-01,  2.27829677e-01,\n",
       "        3.60109785e+00,  4.94894329e+00,  6.33621398e+00, -4.95356692e-01,\n",
       "        3.14367324e+00,  7.26236221e+00,  6.50438667e+00, -9.48559419e-01,\n",
       "        1.10195465e+01,  3.29643248e+00,  2.17665680e+00,  1.11950591e+00,\n",
       "        4.00062904e+00,  2.37853827e+00, -7.08119251e+00,  7.75529553e+00,\n",
       "        4.96684107e-01, -3.73173361e+00, -4.92544808e+00,  3.88991917e+00,\n",
       "        3.41140075e+00, -1.58045657e+00,  6.55936845e-01,  1.15802677e+01,\n",
       "       -1.24968148e+00,  6.74687359e+00,  6.51780077e+00,  3.88539721e+00,\n",
       "        4.09628420e+00,  2.25742188e+00,  5.99542093e+00,  8.38569952e+00,\n",
       "        2.53586680e+00,  5.20830532e+00,  5.10363966e+00,  6.10089740e+00,\n",
       "        7.25631207e-01,  5.47308870e+00,  4.00508060e+00,  8.99127933e+00,\n",
       "        3.81485682e+00,  1.27325560e+01, -6.00730951e-01, -1.20106727e+00,\n",
       "        3.24867991e+00,  1.94391934e+00,  1.98505252e+00,  3.04346750e+00,\n",
       "        1.80101964e+00,  3.23148571e+00,  3.10356134e+00,  4.11076180e+00,\n",
       "        2.63702559e+00,  5.77060656e+00,  5.71133692e+00,  5.89646739e+00,\n",
       "        7.54369984e+00,  4.29160852e+00,  2.88324668e+00,  6.76674139e+00,\n",
       "        4.39244391e+00,  2.70826921e+00, -2.60836575e+00,  2.79652873e+00,\n",
       "        1.04025444e+01,  1.90960966e+00, -2.28142408e+00,  3.55232411e-01,\n",
       "        2.32033652e+00,  3.15605431e+00,  2.54598453e+00,  2.40199381e+00,\n",
       "        8.09028874e+00, -1.24647936e+00,  9.92022225e-01,  5.18552131e+00,\n",
       "        9.92054976e-01,  4.87778382e+00,  1.00216238e+01, -1.26713657e+00,\n",
       "        4.26234498e+00,  7.07867438e+00,  3.22689740e-01,  2.35585363e+00,\n",
       "        6.15551871e+00,  5.83105956e+00,  1.58913506e+00,  7.08077175e+00,\n",
       "        3.99510866e+00,  3.76560105e+00,  8.25162131e+00, -3.71172467e-01,\n",
       "       -1.16912278e-02, -4.78663996e+00, -3.39279852e+00,  2.38533559e+00,\n",
       "       -1.28428812e+00,  2.09112941e+00, -2.56238874e+00,  1.71164868e+00,\n",
       "       -9.44996014e-01,  8.28448480e+00,  4.04344335e+00, -6.76251014e+00,\n",
       "        3.22866584e+00,  3.24028799e+00,  7.45901789e+00,  2.79522871e+00,\n",
       "       -3.07754798e+00,  3.78722284e+00,  4.41045945e+00, -1.57358330e+00,\n",
       "        6.40494649e-01, -1.25456389e+00,  1.32612859e+00,  7.98004051e+00,\n",
       "        9.58861994e+00,  4.31248158e+00,  3.20734505e+00, -4.60322552e+00,\n",
       "        3.10270024e-01,  6.00794195e+00,  5.42035400e+00,  1.19161417e+00,\n",
       "       -3.97520416e-01, -6.27248420e+00,  8.69849449e+00,  6.65919443e+00,\n",
       "        1.76821525e+00,  5.88433551e+00,  3.79952638e+00,  5.26747243e+00,\n",
       "        5.00910712e+00,  5.14827332e+00,  9.96010145e-01, -2.10466420e+00,\n",
       "        2.03887085e+00,  3.72040483e+00,  9.52926621e+00,  4.25636619e+00,\n",
       "        3.56452510e+00,  3.33354210e+00,  2.87640247e+00, -8.58394696e+00,\n",
       "        1.11147597e-01, -1.51230336e+00,  7.75812322e+00,  9.84761904e+00,\n",
       "        6.00713249e+00, -2.85937914e-01,  1.26637941e+01,  8.52415784e+00,\n",
       "        5.36709634e+00,  1.12072826e+00,  6.81504276e+00,  2.99345112e+00,\n",
       "        7.09039931e-01, -6.74356186e+00, -4.83393328e+00, -4.58372827e-01,\n",
       "        1.22294596e+00,  6.80897997e+00,  7.95746698e-01,  1.37239785e+00,\n",
       "        5.62540264e+00,  1.02352337e+00,  6.55920816e+00,  4.13205204e+00,\n",
       "        4.49470843e+00,  2.21351558e+00,  2.97907005e+00,  1.67073593e+00,\n",
       "        1.31954059e+01,  3.85353085e+00,  9.71905518e+00, -5.90918171e-01,\n",
       "        5.86543474e+00,  3.74541603e+00,  8.02165461e+00, -7.04353892e+00,\n",
       "        5.95005558e-01, -2.53752815e+00,  1.95077821e+00, -5.66313703e-01,\n",
       "        2.92816153e+00, -3.68698608e+00,  3.01888580e+00,  3.03493517e+00,\n",
       "        1.95459004e+00,  4.12948594e+00,  5.33718211e+00,  1.21264529e+00,\n",
       "        7.54277438e+00,  1.02789199e+01,  3.97628387e+00,  4.57230673e+00,\n",
       "       -3.17508530e+00,  6.88133295e-01,  5.15536642e+00,  3.55169682e+00,\n",
       "        2.43684853e+00,  4.79520290e+00,  3.37650055e+00,  7.87368393e+00,\n",
       "        5.42951567e+00,  5.85971707e+00, -5.25683631e+00,  6.26924895e-01,\n",
       "        1.23709939e+00,  6.18368142e-01, -2.21495144e+00, -2.93395622e+00,\n",
       "        2.74896783e+00,  6.42367197e+00,  6.53980330e+00, -7.78514118e+00,\n",
       "       -5.00135605e+00,  8.32755968e+00, -4.66655841e+00,  1.02568690e+00,\n",
       "       -1.19275875e+00,  1.74158461e+00,  1.07061722e+00, -2.47246586e+00,\n",
       "        6.78644978e+00,  5.34789221e+00,  1.98395912e+00,  3.11166205e+00,\n",
       "        2.40888282e+00,  2.86408589e+00, -1.96228943e+00, -4.59703856e-01,\n",
       "       -1.39616274e+00, -3.07886717e+00,  4.62414479e+00,  7.95692832e+00,\n",
       "        9.40335146e+00,  3.27546582e+00,  4.09917289e+00, -3.36502328e+00,\n",
       "        1.01646278e+01,  4.73566591e+00, -2.02100315e+00, -8.68606264e+00,\n",
       "        3.92834105e+00,  2.51185637e-02,  1.97646529e-01, -7.25951706e-01,\n",
       "        1.63343657e+00, -1.14297831e-02,  1.34913929e+00, -2.36278571e+00,\n",
       "        6.98992673e+00,  4.33495189e+00,  4.03086175e+00,  6.59115327e+00,\n",
       "        6.27270415e-01,  6.54258264e+00,  1.36065668e+00, -3.33722865e+00,\n",
       "       -1.63235967e+00,  3.10592100e+00,  3.34431571e+00,  7.47655930e-01,\n",
       "        5.79275347e+00,  2.28900915e+00,  2.03649015e-01,  9.45457602e+00,\n",
       "       -3.19715672e+00, -2.60777019e-01, -2.50619250e+00, -1.12048394e+00,\n",
       "       -1.41356884e+00, -1.17935970e+00,  6.44166494e+00,  2.54707323e-01,\n",
       "        2.02459041e+00, -6.33011866e+00, -9.06613711e-01,  6.88432473e-01,\n",
       "       -3.76863873e+00,  7.21764997e+00,  2.45526875e+00,  4.41202328e+00,\n",
       "        5.19049045e+00,  1.77300335e+00,  7.06007130e-01,  4.04362439e+00,\n",
       "        1.97388173e+00, -1.37096152e+00,  2.44710721e+00,  8.28884808e+00,\n",
       "        4.06248159e+00,  3.71636897e+00,  3.57303517e+00,  1.40942107e+01,\n",
       "        9.39002462e+00, -4.72452925e+00,  4.60314452e-01,  5.57669208e-01,\n",
       "        2.19884709e+00,  2.24785878e+00, -9.02358819e-01,  4.30440617e+00,\n",
       "       -6.04839218e+00, -2.37537963e+00,  4.45914754e+00,  3.71710665e+00,\n",
       "        3.12381943e+00,  1.00033518e+01,  3.07279575e+00,  5.81341268e+00,\n",
       "        7.96709248e-02,  4.12338118e-01,  2.76581522e+00, -5.74827400e+00,\n",
       "       -3.96446414e+00,  6.43284891e+00, -3.83830034e+00,  4.17354450e+00,\n",
       "        6.16002216e+00,  6.44370469e+00,  5.68880016e+00,  4.56256549e+00,\n",
       "        9.73783367e+00, -2.60705012e+00,  4.95037387e+00,  9.67584478e+00,\n",
       "        2.71560130e+00,  4.07864855e+00, -2.10568982e+00,  3.20731088e+00,\n",
       "        6.23601871e+00,  1.35193917e+00,  2.84396766e-02,  5.70549294e+00,\n",
       "       -4.20477437e+00,  4.28397536e+00,  7.70379039e+00, -1.03139526e+00,\n",
       "        6.98113779e-01,  6.36384949e+00,  2.38504264e+00, -1.96075860e+00,\n",
       "        7.79312386e+00,  6.50173978e+00, -1.95077934e+00,  2.11458425e+00,\n",
       "       -5.79497734e+00,  1.63755571e+00, -4.21509479e+00,  4.56848090e+00,\n",
       "        5.43335889e+00,  1.05082865e+01, -3.43655971e+00,  3.00975773e+00,\n",
       "        3.65513796e+00,  3.58639395e+00,  2.74061557e+00, -2.45571584e+00,\n",
       "       -4.36212280e+00,  4.18142748e+00,  1.85315232e+00,  8.49625000e+00,\n",
       "       -2.97244147e+00, -2.05503730e+00,  7.81061645e+00, -9.66199414e-01,\n",
       "        5.87686164e+00, -3.03766604e+00,  4.32187104e+00,  6.22515586e+00,\n",
       "        7.96025901e+00,  1.76931731e+00, -4.62358980e-02,  4.63223673e+00,\n",
       "        6.14048057e+00,  7.26994563e-01,  3.90586472e+00,  6.63018633e+00,\n",
       "       -5.81911208e+00,  6.35888028e+00, -5.27769309e+00,  4.79651836e+00,\n",
       "        4.38660467e+00,  2.24718252e+00, -1.62471430e+00,  6.42456430e+00,\n",
       "       -3.47077501e+00, -1.40759245e+00,  3.20870065e+00, -4.45562138e+00,\n",
       "        6.02393899e-02,  4.02534683e+00, -5.39201641e+00,  5.20110638e+00,\n",
       "       -5.39454455e+00,  2.93629232e+00, -3.03508428e+00,  1.42754181e+00,\n",
       "        6.20016469e-01,  8.22848866e+00,  2.57441052e+00,  1.15563707e+00,\n",
       "       -2.74701943e-03,  8.54356635e+00,  3.01373168e+00,  2.75284220e+00,\n",
       "        1.20898552e+00, -4.72871697e+00,  5.08169388e+00, -1.22680921e+00,\n",
       "        9.62729097e-01,  6.86866077e+00,  1.29719643e+01,  3.32238581e+00,\n",
       "        5.13734984e+00, -6.61984982e-01,  5.82475332e+00,  6.08734632e+00,\n",
       "        7.37056017e+00,  5.48571800e+00,  1.10248498e-01,  3.35104087e-01,\n",
       "       -3.52472314e+00, -8.41365609e-01, -1.20102671e+00,  1.19808928e+01,\n",
       "        4.06714114e+00,  6.87643206e+00,  3.68035549e+00,  9.71545600e+00,\n",
       "        1.66482216e+00, -5.29179622e-01,  6.27080123e+00, -5.35313767e+00,\n",
       "        3.46926365e+00,  7.72166106e+00,  2.39827115e+00,  1.99614120e+00,\n",
       "        4.12508001e+00,  5.58023251e+00,  8.58746376e+00,  1.07870552e+01,\n",
       "        2.94460780e+00,  8.26604888e+00,  2.11408130e+00,  4.20614721e+00,\n",
       "        4.01052305e+00, -2.22425483e+00,  2.85365806e+00,  4.05135545e+00,\n",
       "        1.77531156e+00,  2.68412543e+00, -1.68982734e+00, -2.42501029e+00,\n",
       "        6.39532940e+00,  1.13823829e+01,  3.28052043e+00, -1.96390242e+00,\n",
       "        5.09963924e+00,  6.50513428e+00,  1.02336344e+00,  1.99426726e+00,\n",
       "        1.90238736e+00,  6.00790632e+00,  1.07759025e+01,  4.61052013e+00,\n",
       "        5.74873866e+00,  7.49237189e+00,  7.68608696e+00,  1.33633729e+00,\n",
       "        4.00939276e+00,  4.68429674e+00,  6.77357407e+00,  4.37561851e+00,\n",
       "        8.11305183e+00,  7.14827174e+00,  6.72521111e+00, -1.88840453e+00,\n",
       "        8.20815923e+00,  5.17860393e+00,  2.41753759e+00, -1.57632265e-01,\n",
       "        5.09398231e+00, -5.98756394e-01,  1.37880180e+00, -2.43423509e-01,\n",
       "       -1.97034113e+00,  3.37970138e+00,  9.31718899e+00,  6.35148248e+00,\n",
       "        2.60213035e+00,  5.67308612e+00,  2.68188163e+00,  6.41286850e+00,\n",
       "        4.30916505e+00, -3.20523261e+00,  5.37233695e+00,  7.00431302e+00,\n",
       "       -5.97226055e+00,  5.51230769e+00,  3.13887256e+00, -2.65969289e+00,\n",
       "        4.78405005e+00,  2.90270806e+00,  9.06404938e+00,  4.77447430e+00,\n",
       "        3.88157930e+00, -4.59581548e+00,  6.21080883e+00,  2.52570138e+00,\n",
       "        4.24439953e+00,  2.03011357e+00,  3.58123943e+00, -1.54001199e+00,\n",
       "        3.31725348e+00,  2.12215359e+00,  6.57512282e+00,  5.37503036e+00,\n",
       "        2.38795431e+00,  6.55060859e+00,  5.01434064e+00,  6.72846011e-01,\n",
       "       -3.86123612e+00,  5.60202198e+00,  1.93150533e+00,  1.87825077e+00,\n",
       "       -1.80325792e+00,  4.88514855e+00,  4.72533473e+00,  3.99957891e+00,\n",
       "        8.22390462e+00,  2.10112054e+00,  3.39536173e+00,  6.05916115e+00,\n",
       "        4.18639072e+00,  7.24957910e+00,  5.25833962e-01,  3.89223901e+00,\n",
       "        4.72770837e+00, -5.15150390e-01, -3.95540199e+00,  2.54236798e-01,\n",
       "        6.85184691e+00, -2.55041750e-02,  4.94161442e+00,  1.24430647e+01,\n",
       "        5.77676437e+00,  5.31473786e+00,  8.87871526e+00,  8.12586489e+00,\n",
       "        2.90853574e+00,  7.45019416e+00,  7.09639194e-01, -2.98394289e+00,\n",
       "        1.41332073e+00, -8.43163623e+00, -6.42264358e+00, -3.57315628e-02,\n",
       "       -1.64562503e-01,  5.12544852e+00,  4.71185282e+00,  4.08157176e+00,\n",
       "       -1.94719758e+00,  3.68819790e+00,  6.68975272e-01,  9.96464210e+00,\n",
       "       -1.44342953e+00,  2.56541038e+00, -2.85588795e-01,  4.79571938e+00,\n",
       "        5.46558430e+00,  3.16053017e-01,  6.52458394e+00,  2.19906213e+00,\n",
       "        5.29087904e+00,  4.59890290e+00,  5.67417268e+00,  4.43417512e+00,\n",
       "        7.10125651e+00, -7.99930147e+00,  3.29223537e+00,  3.74588744e+00,\n",
       "       -1.06641563e+00,  3.08495388e+00,  8.66459660e-01,  7.77312220e+00,\n",
       "        5.44380390e+00,  5.42583147e+00,  6.24175410e+00, -1.44786770e-01,\n",
       "        6.53460296e+00,  3.29808998e+00,  9.52006229e+00, -3.54543027e+00,\n",
       "        1.15837599e+01,  4.72680994e+00, -2.27384112e+00, -1.10949915e+00,\n",
       "        2.54151291e-01,  4.33387517e+00,  5.81889907e+00,  6.47186829e+00,\n",
       "       -3.54598993e+00,  1.40553423e+01,  2.87082961e+00, -3.39627683e+00,\n",
       "       -2.37171082e-02,  5.62923934e+00, -1.90549945e+00, -6.43705371e-01,\n",
       "        3.90247471e+00,  3.41300069e+00, -1.84156896e+00,  1.39214720e+00,\n",
       "        1.21623596e+00, -2.85859044e+00,  1.05969086e+01,  4.22632842e+00,\n",
       "       -3.16235446e+00,  6.48226451e+00, -6.40680679e-02,  1.29897831e+00,\n",
       "        1.01886096e+00,  1.59188068e+00, -3.02440412e+00,  2.87424399e+00,\n",
       "       -1.30534261e+00,  5.60182628e+00,  1.33274401e+01,  3.27118953e+00,\n",
       "        4.61202687e+00, -5.11233942e-01, -2.53625213e+00,  1.40662907e+00,\n",
       "        7.76980323e+00,  1.40452162e+01,  6.53827996e+00,  4.82995929e-02,\n",
       "        5.04433472e-01, -2.60581019e-01, -2.15265937e+00,  3.30090525e+00,\n",
       "        7.03604155e+00,  7.44563267e+00,  1.38899870e+01,  2.35962352e+00,\n",
       "        3.03243492e+00,  8.97007041e+00,  7.37350619e-01, -8.32985724e-01,\n",
       "        5.27012011e+00, -4.46968432e-01,  1.46477956e+00,  4.27640165e+00,\n",
       "        7.97948846e+00,  6.55259600e+00,  4.90053760e+00,  4.38870898e+00,\n",
       "        6.09613402e+00,  4.06915810e+00,  4.57565553e+00, -2.73406559e+00,\n",
       "       -1.79650888e+00,  9.67419663e-01,  9.77745003e-01, -1.19803618e+00,\n",
       "       -8.06086463e-01,  1.86813925e+00,  5.92707491e+00, -1.63451013e+00])"
      ]
     },
     "execution_count": 21,
     "metadata": {},
     "output_type": "execute_result"
    }
   ],
   "source": [
    "s = np.random.normal(3, 4, 1000)\n",
    "s"
   ]
  },
  {
   "cell_type": "markdown",
   "id": "5320324e",
   "metadata": {},
   "source": [
    "#### Install matplotlib library for ploting purposes and then plot the s \n",
    "- search to find how to do"
   ]
  },
  {
   "cell_type": "code",
   "execution_count": 22,
   "id": "a8ca4a2e",
   "metadata": {},
   "outputs": [
    {
     "data": {
      "text/plain": [
       "(array([  1.,   5.,  31.,  98., 218., 303., 223.,  93.,  19.,   9.]),\n",
       " array([-13.61615635, -10.61321024,  -7.61026414,  -4.60731803,\n",
       "         -1.60437193,   1.39857418,   4.40152029,   7.40446639,\n",
       "         10.4074125 ,  13.4103586 ,  16.41330471]),\n",
       " <BarContainer object of 10 artists>)"
      ]
     },
     "execution_count": 22,
     "metadata": {},
     "output_type": "execute_result"
    },
    {
     "data": {
      "image/png": "[encoded data removed]",
      "text/plain": [
       "<Figure size 432x288 with 1 Axes>"
      ]
     },
     "metadata": {
      "needs_background": "light"
     },
     "output_type": "display_data"
    }
   ],
   "source": [
    "import matplotlib.pyplot as plt\n",
    "plt.hist(s)"
   ]
  },
  {
   "cell_type": "markdown",
   "id": "f0ba30ab",
   "metadata": {},
   "source": [
    "____"
   ]
  },
  {
   "cell_type": "markdown",
   "id": "25f032d0",
   "metadata": {},
   "source": [
    "# Learning Pandas"
   ]
  },
  {
   "cell_type": "markdown",
   "id": "d2a96de4",
   "metadata": {},
   "source": [
    "##### Read the airline safety data assign to df variable and print first 5 rows with pandas function"
   ]
  },
  {
   "cell_type": "code",
   "execution_count": 1,
   "id": "d19327ef",
   "metadata": {},
   "outputs": [],
   "source": [
    "import pandas as pd "
   ]
  },
  {
   "cell_type": "code",
   "execution_count": 3,
   "id": "45471ae7",
   "metadata": {},
   "outputs": [],
   "source": [
    "df = pd.read_csv(\"airline_safety_data.txt\")"
   ]
  },
  {
   "cell_type": "code",
   "execution_count": 4,
   "id": "efb56a58",
   "metadata": {},
   "outputs": [
    {
     "data": {
      "text/html": [
       "<div>\n",
       "<style scoped>\n",
       "    .dataframe tbody tr th:only-of-type {\n",
       "        vertical-align: middle;\n",
       "    }\n",
       "\n",
       "    .dataframe tbody tr th {\n",
       "        vertical-align: top;\n",
       "    }\n",
       "\n",
       "    .dataframe thead th {\n",
       "        text-align: right;\n",
       "    }\n",
       "</style>\n",
       "<table border=\"1\" class=\"dataframe\">\n",
       "  <thead>\n",
       "    <tr style=\"text-align: right;\">\n",
       "      <th></th>\n",
       "      <th>airline</th>\n",
       "      <th>avail_seat_km_per_week</th>\n",
       "      <th>incidents_85_99</th>\n",
       "      <th>fatal_accidents_85_99</th>\n",
       "      <th>fatalities_85_99</th>\n",
       "      <th>incidents_00_14</th>\n",
       "      <th>fatal_accidents_00_14</th>\n",
       "      <th>fatalities_00_14</th>\n",
       "    </tr>\n",
       "  </thead>\n",
       "  <tbody>\n",
       "    <tr>\n",
       "      <th>0</th>\n",
       "      <td>Aer Lingus</td>\n",
       "      <td>320906734</td>\n",
       "      <td>2</td>\n",
       "      <td>0</td>\n",
       "      <td>0</td>\n",
       "      <td>0</td>\n",
       "      <td>0</td>\n",
       "      <td>0</td>\n",
       "    </tr>\n",
       "    <tr>\n",
       "      <th>1</th>\n",
       "      <td>Aeroflot*</td>\n",
       "      <td>1197672318</td>\n",
       "      <td>76</td>\n",
       "      <td>14</td>\n",
       "      <td>128</td>\n",
       "      <td>6</td>\n",
       "      <td>1</td>\n",
       "      <td>88</td>\n",
       "    </tr>\n",
       "    <tr>\n",
       "      <th>2</th>\n",
       "      <td>Aerolineas Argentinas</td>\n",
       "      <td>385803648</td>\n",
       "      <td>6</td>\n",
       "      <td>0</td>\n",
       "      <td>0</td>\n",
       "      <td>1</td>\n",
       "      <td>0</td>\n",
       "      <td>0</td>\n",
       "    </tr>\n",
       "    <tr>\n",
       "      <th>3</th>\n",
       "      <td>Aeromexico*</td>\n",
       "      <td>596871813</td>\n",
       "      <td>3</td>\n",
       "      <td>1</td>\n",
       "      <td>64</td>\n",
       "      <td>5</td>\n",
       "      <td>0</td>\n",
       "      <td>0</td>\n",
       "    </tr>\n",
       "    <tr>\n",
       "      <th>4</th>\n",
       "      <td>Air Canada</td>\n",
       "      <td>1865253802</td>\n",
       "      <td>2</td>\n",
       "      <td>0</td>\n",
       "      <td>0</td>\n",
       "      <td>2</td>\n",
       "      <td>0</td>\n",
       "      <td>0</td>\n",
       "    </tr>\n",
       "  </tbody>\n",
       "</table>\n",
       "</div>"
      ],
      "text/plain": [
       "                 airline  avail_seat_km_per_week  incidents_85_99  \\\n",
       "0             Aer Lingus               320906734                2   \n",
       "1              Aeroflot*              1197672318               76   \n",
       "2  Aerolineas Argentinas               385803648                6   \n",
       "3            Aeromexico*               596871813                3   \n",
       "4             Air Canada              1865253802                2   \n",
       "\n",
       "   fatal_accidents_85_99  fatalities_85_99  incidents_00_14  \\\n",
       "0                      0                 0                0   \n",
       "1                     14               128                6   \n",
       "2                      0                 0                1   \n",
       "3                      1                64                5   \n",
       "4                      0                 0                2   \n",
       "\n",
       "   fatal_accidents_00_14  fatalities_00_14  \n",
       "0                      0                 0  \n",
       "1                      1                88  \n",
       "2                      0                 0  \n",
       "3                      0                 0  \n",
       "4                      0                 0  "
      ]
     },
     "execution_count": 4,
     "metadata": {},
     "output_type": "execute_result"
    }
   ],
   "source": [
    "df.head()"
   ]
  },
  {
   "cell_type": "markdown",
   "id": "4f9a8367",
   "metadata": {},
   "source": [
    "##### print last 5 rows with pandas function"
   ]
  },
  {
   "cell_type": "code",
   "execution_count": 5,
   "id": "7aad0e59",
   "metadata": {},
   "outputs": [
    {
     "data": {
      "text/html": [
       "<div>\n",
       "<style scoped>\n",
       "    .dataframe tbody tr th:only-of-type {\n",
       "        vertical-align: middle;\n",
       "    }\n",
       "\n",
       "    .dataframe tbody tr th {\n",
       "        vertical-align: top;\n",
       "    }\n",
       "\n",
       "    .dataframe thead th {\n",
       "        text-align: right;\n",
       "    }\n",
       "</style>\n",
       "<table border=\"1\" class=\"dataframe\">\n",
       "  <thead>\n",
       "    <tr style=\"text-align: right;\">\n",
       "      <th></th>\n",
       "      <th>airline</th>\n",
       "      <th>avail_seat_km_per_week</th>\n",
       "      <th>incidents_85_99</th>\n",
       "      <th>fatal_accidents_85_99</th>\n",
       "      <th>fatalities_85_99</th>\n",
       "      <th>incidents_00_14</th>\n",
       "      <th>fatal_accidents_00_14</th>\n",
       "      <th>fatalities_00_14</th>\n",
       "    </tr>\n",
       "  </thead>\n",
       "  <tbody>\n",
       "    <tr>\n",
       "      <th>51</th>\n",
       "      <td>United / Continental*</td>\n",
       "      <td>7139291291</td>\n",
       "      <td>19</td>\n",
       "      <td>8</td>\n",
       "      <td>319</td>\n",
       "      <td>14</td>\n",
       "      <td>2</td>\n",
       "      <td>109</td>\n",
       "    </tr>\n",
       "    <tr>\n",
       "      <th>52</th>\n",
       "      <td>US Airways / America West*</td>\n",
       "      <td>2455687887</td>\n",
       "      <td>16</td>\n",
       "      <td>7</td>\n",
       "      <td>224</td>\n",
       "      <td>11</td>\n",
       "      <td>2</td>\n",
       "      <td>23</td>\n",
       "    </tr>\n",
       "    <tr>\n",
       "      <th>53</th>\n",
       "      <td>Vietnam Airlines</td>\n",
       "      <td>625084918</td>\n",
       "      <td>7</td>\n",
       "      <td>3</td>\n",
       "      <td>171</td>\n",
       "      <td>1</td>\n",
       "      <td>0</td>\n",
       "      <td>0</td>\n",
       "    </tr>\n",
       "    <tr>\n",
       "      <th>54</th>\n",
       "      <td>Virgin Atlantic</td>\n",
       "      <td>1005248585</td>\n",
       "      <td>1</td>\n",
       "      <td>0</td>\n",
       "      <td>0</td>\n",
       "      <td>0</td>\n",
       "      <td>0</td>\n",
       "      <td>0</td>\n",
       "    </tr>\n",
       "    <tr>\n",
       "      <th>55</th>\n",
       "      <td>Xiamen Airlines</td>\n",
       "      <td>430462962</td>\n",
       "      <td>9</td>\n",
       "      <td>1</td>\n",
       "      <td>82</td>\n",
       "      <td>2</td>\n",
       "      <td>0</td>\n",
       "      <td>0</td>\n",
       "    </tr>\n",
       "  </tbody>\n",
       "</table>\n",
       "</div>"
      ],
      "text/plain": [
       "                       airline  avail_seat_km_per_week  incidents_85_99  \\\n",
       "51       United / Continental*              7139291291               19   \n",
       "52  US Airways / America West*              2455687887               16   \n",
       "53            Vietnam Airlines               625084918                7   \n",
       "54             Virgin Atlantic              1005248585                1   \n",
       "55             Xiamen Airlines               430462962                9   \n",
       "\n",
       "    fatal_accidents_85_99  fatalities_85_99  incidents_00_14  \\\n",
       "51                      8               319               14   \n",
       "52                      7               224               11   \n",
       "53                      3               171                1   \n",
       "54                      0                 0                0   \n",
       "55                      1                82                2   \n",
       "\n",
       "    fatal_accidents_00_14  fatalities_00_14  \n",
       "51                      2               109  \n",
       "52                      2                23  \n",
       "53                      0                 0  \n",
       "54                      0                 0  \n",
       "55                      0                 0  "
      ]
     },
     "execution_count": 5,
     "metadata": {},
     "output_type": "execute_result"
    }
   ],
   "source": [
    "df.tail()"
   ]
  },
  {
   "cell_type": "markdown",
   "id": "9c9ef7db",
   "metadata": {},
   "source": [
    "##### Show shape of df"
   ]
  },
  {
   "cell_type": "code",
   "execution_count": 6,
   "id": "e9d19c7a",
   "metadata": {},
   "outputs": [
    {
     "data": {
      "text/plain": [
       "(56, 8)"
      ]
     },
     "execution_count": 6,
     "metadata": {},
     "output_type": "execute_result"
    }
   ],
   "source": [
    "df.shape"
   ]
  },
  {
   "cell_type": "markdown",
   "id": "29b6bcdb",
   "metadata": {},
   "source": [
    "##### Show descriptive statistics of df"
   ]
  },
  {
   "cell_type": "code",
   "execution_count": 8,
   "id": "033ecb1b",
   "metadata": {},
   "outputs": [
    {
     "data": {
      "text/html": [
       "<div>\n",
       "<style scoped>\n",
       "    .dataframe tbody tr th:only-of-type {\n",
       "        vertical-align: middle;\n",
       "    }\n",
       "\n",
       "    .dataframe tbody tr th {\n",
       "        vertical-align: top;\n",
       "    }\n",
       "\n",
       "    .dataframe thead th {\n",
       "        text-align: right;\n",
       "    }\n",
       "</style>\n",
       "<table border=\"1\" class=\"dataframe\">\n",
       "  <thead>\n",
       "    <tr style=\"text-align: right;\">\n",
       "      <th></th>\n",
       "      <th>avail_seat_km_per_week</th>\n",
       "      <th>incidents_85_99</th>\n",
       "      <th>fatal_accidents_85_99</th>\n",
       "      <th>fatalities_85_99</th>\n",
       "      <th>incidents_00_14</th>\n",
       "      <th>fatal_accidents_00_14</th>\n",
       "      <th>fatalities_00_14</th>\n",
       "    </tr>\n",
       "  </thead>\n",
       "  <tbody>\n",
       "    <tr>\n",
       "      <th>count</th>\n",
       "      <td>5.600000e+01</td>\n",
       "      <td>56.000000</td>\n",
       "      <td>56.000000</td>\n",
       "      <td>56.000000</td>\n",
       "      <td>56.000000</td>\n",
       "      <td>56.000000</td>\n",
       "      <td>56.000000</td>\n",
       "    </tr>\n",
       "    <tr>\n",
       "      <th>mean</th>\n",
       "      <td>1.384621e+09</td>\n",
       "      <td>7.178571</td>\n",
       "      <td>2.178571</td>\n",
       "      <td>112.410714</td>\n",
       "      <td>4.125000</td>\n",
       "      <td>0.660714</td>\n",
       "      <td>55.517857</td>\n",
       "    </tr>\n",
       "    <tr>\n",
       "      <th>std</th>\n",
       "      <td>1.465317e+09</td>\n",
       "      <td>11.035656</td>\n",
       "      <td>2.861069</td>\n",
       "      <td>146.691114</td>\n",
       "      <td>4.544977</td>\n",
       "      <td>0.858684</td>\n",
       "      <td>111.332751</td>\n",
       "    </tr>\n",
       "    <tr>\n",
       "      <th>min</th>\n",
       "      <td>2.593733e+08</td>\n",
       "      <td>0.000000</td>\n",
       "      <td>0.000000</td>\n",
       "      <td>0.000000</td>\n",
       "      <td>0.000000</td>\n",
       "      <td>0.000000</td>\n",
       "      <td>0.000000</td>\n",
       "    </tr>\n",
       "    <tr>\n",
       "      <th>25%</th>\n",
       "      <td>4.740362e+08</td>\n",
       "      <td>2.000000</td>\n",
       "      <td>0.000000</td>\n",
       "      <td>0.000000</td>\n",
       "      <td>1.000000</td>\n",
       "      <td>0.000000</td>\n",
       "      <td>0.000000</td>\n",
       "    </tr>\n",
       "    <tr>\n",
       "      <th>50%</th>\n",
       "      <td>8.029089e+08</td>\n",
       "      <td>4.000000</td>\n",
       "      <td>1.000000</td>\n",
       "      <td>48.500000</td>\n",
       "      <td>3.000000</td>\n",
       "      <td>0.000000</td>\n",
       "      <td>0.000000</td>\n",
       "    </tr>\n",
       "    <tr>\n",
       "      <th>75%</th>\n",
       "      <td>1.847239e+09</td>\n",
       "      <td>8.000000</td>\n",
       "      <td>3.000000</td>\n",
       "      <td>184.250000</td>\n",
       "      <td>5.250000</td>\n",
       "      <td>1.000000</td>\n",
       "      <td>83.250000</td>\n",
       "    </tr>\n",
       "    <tr>\n",
       "      <th>max</th>\n",
       "      <td>7.139291e+09</td>\n",
       "      <td>76.000000</td>\n",
       "      <td>14.000000</td>\n",
       "      <td>535.000000</td>\n",
       "      <td>24.000000</td>\n",
       "      <td>3.000000</td>\n",
       "      <td>537.000000</td>\n",
       "    </tr>\n",
       "  </tbody>\n",
       "</table>\n",
       "</div>"
      ],
      "text/plain": [
       "       avail_seat_km_per_week  incidents_85_99  fatal_accidents_85_99  \\\n",
       "count            5.600000e+01        56.000000              56.000000   \n",
       "mean             1.384621e+09         7.178571               2.178571   \n",
       "std              1.465317e+09        11.035656               2.861069   \n",
       "min              2.593733e+08         0.000000               0.000000   \n",
       "25%              4.740362e+08         2.000000               0.000000   \n",
       "50%              8.029089e+08         4.000000               1.000000   \n",
       "75%              1.847239e+09         8.000000               3.000000   \n",
       "max              7.139291e+09        76.000000              14.000000   \n",
       "\n",
       "       fatalities_85_99  incidents_00_14  fatal_accidents_00_14  \\\n",
       "count         56.000000        56.000000              56.000000   \n",
       "mean         112.410714         4.125000               0.660714   \n",
       "std          146.691114         4.544977               0.858684   \n",
       "min            0.000000         0.000000               0.000000   \n",
       "25%            0.000000         1.000000               0.000000   \n",
       "50%           48.500000         3.000000               0.000000   \n",
       "75%          184.250000         5.250000               1.000000   \n",
       "max          535.000000        24.000000               3.000000   \n",
       "\n",
       "       fatalities_00_14  \n",
       "count         56.000000  \n",
       "mean          55.517857  \n",
       "std          111.332751  \n",
       "min            0.000000  \n",
       "25%            0.000000  \n",
       "50%            0.000000  \n",
       "75%           83.250000  \n",
       "max          537.000000  "
      ]
     },
     "execution_count": 8,
     "metadata": {},
     "output_type": "execute_result"
    }
   ],
   "source": [
    "df.describe()"
   ]
  },
  {
   "cell_type": "markdown",
   "id": "d803e81a",
   "metadata": {},
   "source": [
    "#### Show df column informations"
   ]
  },
  {
   "cell_type": "code",
   "execution_count": 9,
   "id": "c5718945",
   "metadata": {},
   "outputs": [
    {
     "name": "stdout",
     "output_type": "stream",
     "text": [
      "<class 'pandas.core.frame.DataFrame'>\n",
      "RangeIndex: 56 entries, 0 to 55\n",
      "Data columns (total 8 columns):\n",
      " #   Column                  Non-Null Count  Dtype \n",
      "---  ------                  --------------  ----- \n",
      " 0   airline                 56 non-null     object\n",
      " 1   avail_seat_km_per_week  56 non-null     int64 \n",
      " 2   incidents_85_99         56 non-null     int64 \n",
      " 3   fatal_accidents_85_99   56 non-null     int64 \n",
      " 4   fatalities_85_99        56 non-null     int64 \n",
      " 5   incidents_00_14         56 non-null     int64 \n",
      " 6   fatal_accidents_00_14   56 non-null     int64 \n",
      " 7   fatalities_00_14        56 non-null     int64 \n",
      "dtypes: int64(7), object(1)\n",
      "memory usage: 3.6+ KB\n"
     ]
    }
   ],
   "source": [
    "df.info()"
   ]
  },
  {
   "cell_type": "markdown",
   "id": "59dc697a",
   "metadata": {},
   "source": [
    "#### Select companies and incidents_85_99 with incidents_85_99 is less than 10"
   ]
  },
  {
   "cell_type": "code",
   "execution_count": 13,
   "id": "47d08436",
   "metadata": {
    "scrolled": true
   },
   "outputs": [
    {
     "data": {
      "text/html": [
       "<div>\n",
       "<style scoped>\n",
       "    .dataframe tbody tr th:only-of-type {\n",
       "        vertical-align: middle;\n",
       "    }\n",
       "\n",
       "    .dataframe tbody tr th {\n",
       "        vertical-align: top;\n",
       "    }\n",
       "\n",
       "    .dataframe thead th {\n",
       "        text-align: right;\n",
       "    }\n",
       "</style>\n",
       "<table border=\"1\" class=\"dataframe\">\n",
       "  <thead>\n",
       "    <tr style=\"text-align: right;\">\n",
       "      <th></th>\n",
       "      <th>airline</th>\n",
       "      <th>incidents_85_99</th>\n",
       "    </tr>\n",
       "  </thead>\n",
       "  <tbody>\n",
       "    <tr>\n",
       "      <th>0</th>\n",
       "      <td>Aer Lingus</td>\n",
       "      <td>2</td>\n",
       "    </tr>\n",
       "    <tr>\n",
       "      <th>2</th>\n",
       "      <td>Aerolineas Argentinas</td>\n",
       "      <td>6</td>\n",
       "    </tr>\n",
       "    <tr>\n",
       "      <th>3</th>\n",
       "      <td>Aeromexico*</td>\n",
       "      <td>3</td>\n",
       "    </tr>\n",
       "    <tr>\n",
       "      <th>4</th>\n",
       "      <td>Air Canada</td>\n",
       "      <td>2</td>\n",
       "    </tr>\n",
       "    <tr>\n",
       "      <th>6</th>\n",
       "      <td>Air India*</td>\n",
       "      <td>2</td>\n",
       "    </tr>\n",
       "    <tr>\n",
       "      <th>7</th>\n",
       "      <td>Air New Zealand*</td>\n",
       "      <td>3</td>\n",
       "    </tr>\n",
       "    <tr>\n",
       "      <th>8</th>\n",
       "      <td>Alaska Airlines*</td>\n",
       "      <td>5</td>\n",
       "    </tr>\n",
       "    <tr>\n",
       "      <th>9</th>\n",
       "      <td>Alitalia</td>\n",
       "      <td>7</td>\n",
       "    </tr>\n",
       "    <tr>\n",
       "      <th>10</th>\n",
       "      <td>All Nippon Airways</td>\n",
       "      <td>3</td>\n",
       "    </tr>\n",
       "    <tr>\n",
       "      <th>12</th>\n",
       "      <td>Austrian Airlines</td>\n",
       "      <td>1</td>\n",
       "    </tr>\n",
       "    <tr>\n",
       "      <th>13</th>\n",
       "      <td>Avianca</td>\n",
       "      <td>5</td>\n",
       "    </tr>\n",
       "    <tr>\n",
       "      <th>14</th>\n",
       "      <td>British Airways*</td>\n",
       "      <td>4</td>\n",
       "    </tr>\n",
       "    <tr>\n",
       "      <th>15</th>\n",
       "      <td>Cathay Pacific*</td>\n",
       "      <td>0</td>\n",
       "    </tr>\n",
       "    <tr>\n",
       "      <th>17</th>\n",
       "      <td>Condor</td>\n",
       "      <td>2</td>\n",
       "    </tr>\n",
       "    <tr>\n",
       "      <th>18</th>\n",
       "      <td>COPA</td>\n",
       "      <td>3</td>\n",
       "    </tr>\n",
       "    <tr>\n",
       "      <th>20</th>\n",
       "      <td>Egyptair</td>\n",
       "      <td>8</td>\n",
       "    </tr>\n",
       "    <tr>\n",
       "      <th>21</th>\n",
       "      <td>El Al</td>\n",
       "      <td>1</td>\n",
       "    </tr>\n",
       "    <tr>\n",
       "      <th>23</th>\n",
       "      <td>Finnair</td>\n",
       "      <td>1</td>\n",
       "    </tr>\n",
       "    <tr>\n",
       "      <th>25</th>\n",
       "      <td>Gulf Air</td>\n",
       "      <td>1</td>\n",
       "    </tr>\n",
       "    <tr>\n",
       "      <th>26</th>\n",
       "      <td>Hawaiian Airlines</td>\n",
       "      <td>0</td>\n",
       "    </tr>\n",
       "    <tr>\n",
       "      <th>27</th>\n",
       "      <td>Iberia</td>\n",
       "      <td>4</td>\n",
       "    </tr>\n",
       "    <tr>\n",
       "      <th>28</th>\n",
       "      <td>Japan Airlines</td>\n",
       "      <td>3</td>\n",
       "    </tr>\n",
       "    <tr>\n",
       "      <th>29</th>\n",
       "      <td>Kenya Airways</td>\n",
       "      <td>2</td>\n",
       "    </tr>\n",
       "    <tr>\n",
       "      <th>30</th>\n",
       "      <td>KLM*</td>\n",
       "      <td>7</td>\n",
       "    </tr>\n",
       "    <tr>\n",
       "      <th>32</th>\n",
       "      <td>LAN Airlines</td>\n",
       "      <td>3</td>\n",
       "    </tr>\n",
       "    <tr>\n",
       "      <th>33</th>\n",
       "      <td>Lufthansa*</td>\n",
       "      <td>6</td>\n",
       "    </tr>\n",
       "    <tr>\n",
       "      <th>34</th>\n",
       "      <td>Malaysia Airlines</td>\n",
       "      <td>3</td>\n",
       "    </tr>\n",
       "    <tr>\n",
       "      <th>35</th>\n",
       "      <td>Pakistan International</td>\n",
       "      <td>8</td>\n",
       "    </tr>\n",
       "    <tr>\n",
       "      <th>36</th>\n",
       "      <td>Philippine Airlines</td>\n",
       "      <td>7</td>\n",
       "    </tr>\n",
       "    <tr>\n",
       "      <th>37</th>\n",
       "      <td>Qantas*</td>\n",
       "      <td>1</td>\n",
       "    </tr>\n",
       "    <tr>\n",
       "      <th>38</th>\n",
       "      <td>Royal Air Maroc</td>\n",
       "      <td>5</td>\n",
       "    </tr>\n",
       "    <tr>\n",
       "      <th>39</th>\n",
       "      <td>SAS*</td>\n",
       "      <td>5</td>\n",
       "    </tr>\n",
       "    <tr>\n",
       "      <th>40</th>\n",
       "      <td>Saudi Arabian</td>\n",
       "      <td>7</td>\n",
       "    </tr>\n",
       "    <tr>\n",
       "      <th>41</th>\n",
       "      <td>Singapore Airlines</td>\n",
       "      <td>2</td>\n",
       "    </tr>\n",
       "    <tr>\n",
       "      <th>42</th>\n",
       "      <td>South African</td>\n",
       "      <td>2</td>\n",
       "    </tr>\n",
       "    <tr>\n",
       "      <th>43</th>\n",
       "      <td>Southwest Airlines</td>\n",
       "      <td>1</td>\n",
       "    </tr>\n",
       "    <tr>\n",
       "      <th>44</th>\n",
       "      <td>Sri Lankan / AirLanka</td>\n",
       "      <td>2</td>\n",
       "    </tr>\n",
       "    <tr>\n",
       "      <th>45</th>\n",
       "      <td>SWISS*</td>\n",
       "      <td>2</td>\n",
       "    </tr>\n",
       "    <tr>\n",
       "      <th>46</th>\n",
       "      <td>TACA</td>\n",
       "      <td>3</td>\n",
       "    </tr>\n",
       "    <tr>\n",
       "      <th>47</th>\n",
       "      <td>TAM</td>\n",
       "      <td>8</td>\n",
       "    </tr>\n",
       "    <tr>\n",
       "      <th>48</th>\n",
       "      <td>TAP - Air Portugal</td>\n",
       "      <td>0</td>\n",
       "    </tr>\n",
       "    <tr>\n",
       "      <th>49</th>\n",
       "      <td>Thai Airways</td>\n",
       "      <td>8</td>\n",
       "    </tr>\n",
       "    <tr>\n",
       "      <th>50</th>\n",
       "      <td>Turkish Airlines</td>\n",
       "      <td>8</td>\n",
       "    </tr>\n",
       "    <tr>\n",
       "      <th>53</th>\n",
       "      <td>Vietnam Airlines</td>\n",
       "      <td>7</td>\n",
       "    </tr>\n",
       "    <tr>\n",
       "      <th>54</th>\n",
       "      <td>Virgin Atlantic</td>\n",
       "      <td>1</td>\n",
       "    </tr>\n",
       "    <tr>\n",
       "      <th>55</th>\n",
       "      <td>Xiamen Airlines</td>\n",
       "      <td>9</td>\n",
       "    </tr>\n",
       "  </tbody>\n",
       "</table>\n",
       "</div>"
      ],
      "text/plain": [
       "                   airline  incidents_85_99\n",
       "0               Aer Lingus                2\n",
       "2    Aerolineas Argentinas                6\n",
       "3              Aeromexico*                3\n",
       "4               Air Canada                2\n",
       "6               Air India*                2\n",
       "7         Air New Zealand*                3\n",
       "8         Alaska Airlines*                5\n",
       "9                 Alitalia                7\n",
       "10      All Nippon Airways                3\n",
       "12       Austrian Airlines                1\n",
       "13                 Avianca                5\n",
       "14        British Airways*                4\n",
       "15         Cathay Pacific*                0\n",
       "17                  Condor                2\n",
       "18                    COPA                3\n",
       "20                Egyptair                8\n",
       "21                   El Al                1\n",
       "23                 Finnair                1\n",
       "25                Gulf Air                1\n",
       "26       Hawaiian Airlines                0\n",
       "27                  Iberia                4\n",
       "28          Japan Airlines                3\n",
       "29           Kenya Airways                2\n",
       "30                    KLM*                7\n",
       "32            LAN Airlines                3\n",
       "33              Lufthansa*                6\n",
       "34       Malaysia Airlines                3\n",
       "35  Pakistan International                8\n",
       "36     Philippine Airlines                7\n",
       "37                 Qantas*                1\n",
       "38         Royal Air Maroc                5\n",
       "39                    SAS*                5\n",
       "40           Saudi Arabian                7\n",
       "41      Singapore Airlines                2\n",
       "42           South African                2\n",
       "43      Southwest Airlines                1\n",
       "44   Sri Lankan / AirLanka                2\n",
       "45                  SWISS*                2\n",
       "46                    TACA                3\n",
       "47                     TAM                8\n",
       "48      TAP - Air Portugal                0\n",
       "49            Thai Airways                8\n",
       "50        Turkish Airlines                8\n",
       "53        Vietnam Airlines                7\n",
       "54         Virgin Atlantic                1\n",
       "55         Xiamen Airlines                9"
      ]
     },
     "execution_count": 13,
     "metadata": {},
     "output_type": "execute_result"
    }
   ],
   "source": [
    "df[['airline','incidents_85_99']].loc[df['incidents_85_99']<10]"
   ]
  },
  {
   "cell_type": "markdown",
   "id": "e1a4f653",
   "metadata": {},
   "source": [
    "#### Group companies by first letter(lower) and take the mean incidents_85_99 and make it a dataframe again "
   ]
  },
  {
   "cell_type": "code",
   "execution_count": 54,
   "id": "f05c9d19",
   "metadata": {},
   "outputs": [
    {
     "data": {
      "text/html": [
       "<div>\n",
       "<style scoped>\n",
       "    .dataframe tbody tr th:only-of-type {\n",
       "        vertical-align: middle;\n",
       "    }\n",
       "\n",
       "    .dataframe tbody tr th {\n",
       "        vertical-align: top;\n",
       "    }\n",
       "\n",
       "    .dataframe thead th {\n",
       "        text-align: right;\n",
       "    }\n",
       "</style>\n",
       "<table border=\"1\" class=\"dataframe\">\n",
       "  <thead>\n",
       "    <tr style=\"text-align: right;\">\n",
       "      <th></th>\n",
       "      <th>incidents_85_99</th>\n",
       "    </tr>\n",
       "    <tr>\n",
       "      <th>airline</th>\n",
       "      <th></th>\n",
       "    </tr>\n",
       "  </thead>\n",
       "  <tbody>\n",
       "    <tr>\n",
       "      <th>a</th>\n",
       "      <td>10.714286</td>\n",
       "    </tr>\n",
       "    <tr>\n",
       "      <th>b</th>\n",
       "      <td>4.000000</td>\n",
       "    </tr>\n",
       "    <tr>\n",
       "      <th>c</th>\n",
       "      <td>4.250000</td>\n",
       "    </tr>\n",
       "    <tr>\n",
       "      <th>d</th>\n",
       "      <td>24.000000</td>\n",
       "    </tr>\n",
       "    <tr>\n",
       "      <th>e</th>\n",
       "      <td>11.333333</td>\n",
       "    </tr>\n",
       "    <tr>\n",
       "      <th>f</th>\n",
       "      <td>1.000000</td>\n",
       "    </tr>\n",
       "    <tr>\n",
       "      <th>g</th>\n",
       "      <td>5.500000</td>\n",
       "    </tr>\n",
       "    <tr>\n",
       "      <th>h</th>\n",
       "      <td>0.000000</td>\n",
       "    </tr>\n",
       "    <tr>\n",
       "      <th>i</th>\n",
       "      <td>4.000000</td>\n",
       "    </tr>\n",
       "    <tr>\n",
       "      <th>j</th>\n",
       "      <td>3.000000</td>\n",
       "    </tr>\n",
       "    <tr>\n",
       "      <th>k</th>\n",
       "      <td>7.000000</td>\n",
       "    </tr>\n",
       "    <tr>\n",
       "      <th>l</th>\n",
       "      <td>4.500000</td>\n",
       "    </tr>\n",
       "    <tr>\n",
       "      <th>m</th>\n",
       "      <td>3.000000</td>\n",
       "    </tr>\n",
       "    <tr>\n",
       "      <th>p</th>\n",
       "      <td>7.500000</td>\n",
       "    </tr>\n",
       "    <tr>\n",
       "      <th>q</th>\n",
       "      <td>1.000000</td>\n",
       "    </tr>\n",
       "    <tr>\n",
       "      <th>r</th>\n",
       "      <td>5.000000</td>\n",
       "    </tr>\n",
       "    <tr>\n",
       "      <th>s</th>\n",
       "      <td>3.000000</td>\n",
       "    </tr>\n",
       "    <tr>\n",
       "      <th>t</th>\n",
       "      <td>5.400000</td>\n",
       "    </tr>\n",
       "    <tr>\n",
       "      <th>u</th>\n",
       "      <td>17.500000</td>\n",
       "    </tr>\n",
       "    <tr>\n",
       "      <th>v</th>\n",
       "      <td>4.000000</td>\n",
       "    </tr>\n",
       "    <tr>\n",
       "      <th>x</th>\n",
       "      <td>9.000000</td>\n",
       "    </tr>\n",
       "  </tbody>\n",
       "</table>\n",
       "</div>"
      ],
      "text/plain": [
       "         incidents_85_99\n",
       "airline                 \n",
       "a              10.714286\n",
       "b               4.000000\n",
       "c               4.250000\n",
       "d              24.000000\n",
       "e              11.333333\n",
       "f               1.000000\n",
       "g               5.500000\n",
       "h               0.000000\n",
       "i               4.000000\n",
       "j               3.000000\n",
       "k               7.000000\n",
       "l               4.500000\n",
       "m               3.000000\n",
       "p               7.500000\n",
       "q               1.000000\n",
       "r               5.000000\n",
       "s               3.000000\n",
       "t               5.400000\n",
       "u              17.500000\n",
       "v               4.000000\n",
       "x               9.000000"
      ]
     },
     "execution_count": 54,
     "metadata": {},
     "output_type": "execute_result"
    }
   ],
   "source": [
    "pd.DataFrame(df.groupby(df.airline.str.lower().astype(str).str[0])['incidents_85_99'].mean())"
   ]
  },
  {
   "cell_type": "code",
   "execution_count": null,
   "id": "107701cc",
   "metadata": {},
   "outputs": [],
   "source": []
  }
 ],
 "metadata": {
  "kernelspec": {
   "display_name": "Python 3.10.4 ('jupyter-nb': conda)",
   "language": "python",
   "name": "python3"
  },
  "language_info": {
   "codemirror_mode": {
    "name": "ipython",
    "version": 3
   },
   "file_extension": ".py",
   "mimetype": "text/x-python",
   "name": "python",
   "nbconvert_exporter": "python",
   "pygments_lexer": "ipython3",
   "version": "3.10.4"
  },
  "vscode": {
   "interpreter": {
    "hash": "1bfce05bad4ada10fb945c1dbdde8a23dd61957cdb890af0da1b483c01f736d7"
   }
  }
 },
 "nbformat": 4,
 "nbformat_minor": 5
}
